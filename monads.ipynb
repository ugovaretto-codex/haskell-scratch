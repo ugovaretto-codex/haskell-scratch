{
    "cells": [
        {
            "cell_type": "code",
            "execution_count": null,
            "source": [
                "putStrLn \"OK\""
            ],
            "outputs": [],
            "metadata": {}
        },
        {
            "cell_type": "markdown",
            "source": [
                "## Reader Monad"
            ],
            "metadata": {}
        },
        {
            "cell_type": "code",
            "execution_count": null,
            "source": [
                "newtype R env a = R {runR :: env ->  a}\n",
                "\n",
                "instance Functor (R env) where\n",
                "  fmap f (R e) = R(f . e)\n",
                "\n",
                "instance Applicative (R env) where\n",
                "  pure x = R (const x)\n",
                "  R f <*> R ea = R (\\e -> (f e) (ea e))\n",
                "\n",
                "instance Monad (R env) where\n",
                "  return  = pure\n",
                "  rx >>= f = R(\\e -> let a = runR rx e\n",
                "                     in runR (f a) e)\n",
                "\n",
                "ask :: R env env\n",
                "ask = R(id)\n",
                "\n",
                "asks :: (e -> a) -> R e a\n",
                "asks f = ask >>= (pure . f) \n"
            ],
            "outputs": [],
            "metadata": {}
        },
        {
            "cell_type": "markdown",
            "source": [
                "#### Test"
            ],
            "metadata": {}
        },
        {
            "cell_type": "code",
            "execution_count": null,
            "source": [
                "env = [1,3,3,45]\n",
                "sm :: R [Int] Int\n",
                "sm = do\n",
                "        f <- asks (!! 0)\n",
                "        s <- asks (!! 1)\n",
                "        return (f + s)"
            ],
            "outputs": [],
            "metadata": {}
        },
        {
            "cell_type": "code",
            "execution_count": null,
            "source": [
                "runR sm env"
            ],
            "outputs": [],
            "metadata": {}
        },
        {
            "cell_type": "code",
            "execution_count": null,
            "source": [
                "env = [1,3,3,45]\n",
                "sm :: R [Int] Int\n",
                "sm = asks (!! 0) >>= (\\f -> asks (!! 1) >>= (\\s -> return (f + s)))"
            ],
            "outputs": [],
            "metadata": {}
        },
        {
            "cell_type": "code",
            "execution_count": null,
            "source": [
                "runR sm [1,7,8]"
            ],
            "outputs": [],
            "metadata": {}
        },
        {
            "cell_type": "code",
            "execution_count": null,
            "source": [
                "(runR . R) (+1) 2"
            ],
            "outputs": [],
            "metadata": {}
        },
        {
            "cell_type": "markdown",
            "source": [
                "## Writer Monad"
            ],
            "metadata": {}
        },
        {
            "cell_type": "code",
            "execution_count": 3,
            "source": [
                "newtype Writer w a = Writer { runW :: (a,w) }  deriving Show\n",
                "\n",
                "instance (Monoid w) => Functor (Writer w) where\n",
                "  fmap f (Writer (x,w)) = Writer (f x, w)\n",
                "\n",
                "instance (Monoid  w) => Applicative (Writer w) where\n",
                "  pure x = Writer (x,mempty)\n",
                "  (Writer (f,w)) <*> (Writer (x,w')) = Writer (f x, w `mappend` w')\n",
                "\n",
                "\n",
                "instance (Monoid w) => Monad (Writer w) where  \n",
                "    return x = Writer (x, mempty)  \n",
                "    (Writer (x,v)) >>= f = let (Writer (y, v')) = f x in Writer (y, v `mappend` v')  \n",
                "\n",
                "tell :: (Monoid w) => w -> Writer w ()\n",
                "tell x = Writer((),x)\n",
                "set :: (Monoid w) => m -> Writer w m\n",
                "set x = Writer (x,mempty) "
            ],
            "outputs": [],
            "metadata": {}
        },
        {
            "cell_type": "code",
            "execution_count": 5,
            "source": [
                "newtype LogEntry = LogEntry { msg::String }\n",
                "  deriving (Eq, Show)\n",
                "\n",
                "calc :: Writer [LogEntry] Integer\n",
                "calc = do\n",
                "  output \"start\"\n",
                "  let x = sum [1..10000000]\n",
                "  output (show x)\n",
                "  output \"done\"\n",
                "  return x\n",
                "\n",
                "output :: String -> Writer [LogEntry] ()\n",
                "output x = tell [LogEntry x]\n",
                "\n",
                "test = mapM_ print $ runW calc"
            ],
            "outputs": [],
            "metadata": {}
        },
        {
            "cell_type": "code",
            "execution_count": 6,
            "source": [
                "test"
            ],
            "outputs": [
                {
                    "output_type": "display_data",
                    "data": {
                        "text/plain": [
                            "[LogEntry {msg = \"start\"},LogEntry {msg = \"50000005000000\"},LogEntry {msg = \"done\"}]"
                        ]
                    },
                    "metadata": {}
                }
            ],
            "metadata": {}
        },
        {
            "cell_type": "code",
            "execution_count": 7,
            "source": [
                "runW calc"
            ],
            "outputs": [
                {
                    "output_type": "display_data",
                    "data": {
                        "text/plain": [
                            "(50000005000000,[LogEntry {msg = \"start\"},LogEntry {msg = \"50000005000000\"},LogEntry {msg = \"done\"}])"
                        ]
                    },
                    "metadata": {}
                }
            ],
            "metadata": {}
        },
        {
            "cell_type": "code",
            "execution_count": 12,
            "source": [
                "mapM print (1, Just 4)"
            ],
            "outputs": [
                {
                    "output_type": "display_data",
                    "data": {
                        "text/plain": [
                            "Just 4\n",
                            "(1,())"
                        ]
                    },
                    "metadata": {}
                }
            ],
            "metadata": {}
        },
        {
            "cell_type": "markdown",
            "source": [
                "#### Test"
            ],
            "metadata": {}
        },
        {
            "cell_type": "code",
            "execution_count": null,
            "source": [],
            "outputs": [],
            "metadata": {}
        },
        {
            "cell_type": "code",
            "execution_count": null,
            "source": [
                "log = Writer (0,[])"
            ],
            "outputs": [],
            "metadata": {}
        },
        {
            "cell_type": "code",
            "execution_count": null,
            "source": [
                "log >>= (\\x -> Writer (x+1,[x]) >>= (\\y -> return y))"
            ],
            "outputs": [],
            "metadata": {}
        },
        {
            "cell_type": "code",
            "execution_count": null,
            "source": [
                "inc = \\x -> Writer (x+1,[x])\n",
                "        "
            ],
            "outputs": [],
            "metadata": {}
        },
        {
            "cell_type": "code",
            "execution_count": null,
            "source": [
                "logs = do\n",
                "        Writer(0,[])\n",
                "        Writer(1,[0])\n",
                "        Writer(2,[1])"
            ],
            "outputs": [],
            "metadata": {}
        },
        {
            "cell_type": "code",
            "execution_count": null,
            "source": [
                "runW logs"
            ],
            "outputs": [],
            "metadata": {}
        },
        {
            "cell_type": "code",
            "execution_count": null,
            "source": [
                "logger = Writer (0,\"\")\n",
                "ll l = do\n",
                "      x <- l\n",
                "      return x"
            ],
            "outputs": [],
            "metadata": {}
        },
        {
            "cell_type": "code",
            "execution_count": null,
            "source": [
                "ll Writer(1,\"ciao\")"
            ],
            "outputs": [],
            "metadata": {}
        },
        {
            "cell_type": "code",
            "execution_count": null,
            "source": [
                "tell :: (Monoid w) => w -> Writer w ()\n",
                "tell x = Writer((),x)\n",
                "set :: (Monoid w) => m -> Writer w m\n",
                "set x = Writer (x,mempty) "
            ],
            "outputs": [],
            "metadata": {}
        },
        {
            "cell_type": "code",
            "execution_count": null,
            "source": [
                "runW (tell [1])"
            ],
            "outputs": [],
            "metadata": {}
        },
        {
            "cell_type": "code",
            "execution_count": null,
            "source": [
                "l = do\n",
                "      logger\n",
                "      tell \"ciao\"\n",
                "      tell \" hello\"\n",
                "      set 4"
            ],
            "outputs": [],
            "metadata": {}
        },
        {
            "cell_type": "code",
            "execution_count": null,
            "source": [
                "runW l"
            ],
            "outputs": [],
            "metadata": {}
        },
        {
            "cell_type": "markdown",
            "source": [
                "## State"
            ],
            "metadata": {}
        },
        {
            "cell_type": "code",
            "execution_count": 9,
            "source": [
                "newtype ST st a = S {runS :: st -> (a,st)}\n",
                "\n",
                "instance Functor (ST a)  where\n",
                "  fmap f st = S(\\s -> let (x,s') = runS st s\n",
                "                      in (f x, s'))\n",
                "\n",
                "instance Applicative (ST a) where\n",
                "  pure x = S (\\s -> (x,s))\n",
                "  fs <*> st = S(\\s -> let (f,s') = runS fs s\n",
                "                          (x,s'') = runS st s'\n",
                "                      in (f x, s''))  \n",
                "\n",
                "instance Monad (ST a) where\n",
                "  return x = S(\\st -> (x,st))\n",
                "  m >>= f = S(\\s -> let (x',s') = runS m s\n",
                "                    in runS (f x') s')\n",
                "                    -- in (x'',s''))\n",
                "\n",
                "get :: ST s s\n",
                "get = S(\\s -> (s,s))\n",
                "\n",
                "put :: s -> ST s ()\n",
                "put x = S(const ((),x))\n",
                "\n",
                "modify :: (s -> s) -> ST s ()\n",
                "modify f = S (\\s' -> ((), f s')\n",
                "\n"
            ],
            "outputs": [
                {
                    "output_type": "display_data",
                    "data": {
                        "text/plain": [
                            "Line 8: Use tuple-section\n",
                            "Found:\n",
                            "\\ s -> (x, s)\n",
                            "Why not:\n",
                            "(x,)Line 14: Use tuple-section\n",
                            "Found:\n",
                            "\\ st -> (x, st)\n",
                            "Why not:\n",
                            "(x,)"
                        ],
                        "text/html": [
                            "<style>/* Styles used for the Hoogle display in the pager */\n",
                            ".hoogle-doc {\n",
                            "display: block;\n",
                            "padding-bottom: 1.3em;\n",
                            "padding-left: 0.4em;\n",
                            "}\n",
                            ".hoogle-code {\n",
                            "display: block;\n",
                            "font-family: monospace;\n",
                            "white-space: pre;\n",
                            "}\n",
                            ".hoogle-text {\n",
                            "display: block;\n",
                            "}\n",
                            ".hoogle-name {\n",
                            "color: green;\n",
                            "font-weight: bold;\n",
                            "}\n",
                            ".hoogle-head {\n",
                            "font-weight: bold;\n",
                            "}\n",
                            ".hoogle-sub {\n",
                            "display: block;\n",
                            "margin-left: 0.4em;\n",
                            "}\n",
                            ".hoogle-package {\n",
                            "font-weight: bold;\n",
                            "font-style: italic;\n",
                            "}\n",
                            ".hoogle-module {\n",
                            "font-weight: bold;\n",
                            "}\n",
                            ".hoogle-class {\n",
                            "font-weight: bold;\n",
                            "}\n",
                            ".get-type {\n",
                            "color: green;\n",
                            "font-weight: bold;\n",
                            "font-family: monospace;\n",
                            "display: block;\n",
                            "white-space: pre-wrap;\n",
                            "}\n",
                            ".show-type {\n",
                            "color: green;\n",
                            "font-weight: bold;\n",
                            "font-family: monospace;\n",
                            "margin-left: 1em;\n",
                            "}\n",
                            ".mono {\n",
                            "font-family: monospace;\n",
                            "display: block;\n",
                            "}\n",
                            ".err-msg {\n",
                            "color: red;\n",
                            "font-style: italic;\n",
                            "font-family: monospace;\n",
                            "white-space: pre;\n",
                            "display: block;\n",
                            "}\n",
                            "#unshowable {\n",
                            "color: red;\n",
                            "font-weight: bold;\n",
                            "}\n",
                            ".err-msg.in.collapse {\n",
                            "padding-top: 0.7em;\n",
                            "}\n",
                            ".highlight-code {\n",
                            "white-space: pre;\n",
                            "font-family: monospace;\n",
                            "}\n",
                            ".suggestion-warning { \n",
                            "font-weight: bold;\n",
                            "color: rgb(200, 130, 0);\n",
                            "}\n",
                            ".suggestion-error { \n",
                            "font-weight: bold;\n",
                            "color: red;\n",
                            "}\n",
                            ".suggestion-name {\n",
                            "font-weight: bold;\n",
                            "}\n",
                            "</style><div class=\"suggestion-name\" style=\"clear:both;\">Use tuple-section</div><div class=\"suggestion-row\" style=\"float: left;\"><div class=\"suggestion-warning\">Found:</div><div class=\"highlight-code\" id=\"haskell\">\\ s -> (x, s)</div></div><div class=\"suggestion-row\" style=\"float: left;\"><div class=\"suggestion-warning\">Why Not:</div><div class=\"highlight-code\" id=\"haskell\">(x,)</div></div><div class=\"suggestion-name\" style=\"clear:both;\">Use tuple-section</div><div class=\"suggestion-row\" style=\"float: left;\"><div class=\"suggestion-warning\">Found:</div><div class=\"highlight-code\" id=\"haskell\">\\ st -> (x, st)</div></div><div class=\"suggestion-row\" style=\"float: left;\"><div class=\"suggestion-warning\">Why Not:</div><div class=\"highlight-code\" id=\"haskell\">(x,)</div></div>"
                        ]
                    },
                    "metadata": {}
                }
            ],
            "metadata": {}
        },
        {
            "cell_type": "code",
            "execution_count": 10,
            "source": [
                "push :: Int -> ST [Int] Int\n",
                "push x = S (\\s -> (x,x:s))\n",
                "\n",
                "pop :: ST [Int] Int\n",
                "pop = S(\\(x:xs) -> (x,xs))\n",
                "\n"
            ],
            "outputs": [],
            "metadata": {}
        },
        {
            "cell_type": "code",
            "execution_count": 15,
            "source": [
                "go = do \n",
                "      push 3\n",
                "      push 6\n",
                "      pop"
            ],
            "outputs": [],
            "metadata": {}
        },
        {
            "cell_type": "code",
            "execution_count": 14,
            "source": [
                "runS go []"
            ],
            "outputs": [
                {
                    "output_type": "display_data",
                    "data": {
                        "text/plain": [
                            "(6,[3])"
                        ]
                    },
                    "metadata": {}
                }
            ],
            "metadata": {}
        },
        {
            "cell_type": "code",
            "execution_count": null,
            "source": [],
            "outputs": [],
            "metadata": {}
        },
        {
            "cell_type": "markdown",
            "source": [
                "## Monad Transformer"
            ],
            "metadata": {}
        },
        {
            "cell_type": "code",
            "execution_count": null,
            "source": [],
            "outputs": [],
            "metadata": {}
        },
        {
            "cell_type": "code",
            "execution_count": 45,
            "source": [
                "import Control.Monad\n",
                "import Control.Monad.TR\n",
                "join (Just (Just 4))\n",
                "(flip (+)) 1 3\n",
                "  "
            ],
            "outputs": [
                {
                    "output_type": "display_data",
                    "data": {
                        "text/plain": [
                            "Line 3: Redundant bracket\n",
                            "Found:\n",
                            "(flip (+)) 1\n",
                            "Why not:\n",
                            "flip (+) 1Line 3: Redundant flip\n",
                            "Found:\n",
                            "(flip (+)) 1 3\n",
                            "Why not:\n",
                            "(+) 3 1"
                        ],
                        "text/html": [
                            "<style>/* Styles used for the Hoogle display in the pager */\n",
                            ".hoogle-doc {\n",
                            "display: block;\n",
                            "padding-bottom: 1.3em;\n",
                            "padding-left: 0.4em;\n",
                            "}\n",
                            ".hoogle-code {\n",
                            "display: block;\n",
                            "font-family: monospace;\n",
                            "white-space: pre;\n",
                            "}\n",
                            ".hoogle-text {\n",
                            "display: block;\n",
                            "}\n",
                            ".hoogle-name {\n",
                            "color: green;\n",
                            "font-weight: bold;\n",
                            "}\n",
                            ".hoogle-head {\n",
                            "font-weight: bold;\n",
                            "}\n",
                            ".hoogle-sub {\n",
                            "display: block;\n",
                            "margin-left: 0.4em;\n",
                            "}\n",
                            ".hoogle-package {\n",
                            "font-weight: bold;\n",
                            "font-style: italic;\n",
                            "}\n",
                            ".hoogle-module {\n",
                            "font-weight: bold;\n",
                            "}\n",
                            ".hoogle-class {\n",
                            "font-weight: bold;\n",
                            "}\n",
                            ".get-type {\n",
                            "color: green;\n",
                            "font-weight: bold;\n",
                            "font-family: monospace;\n",
                            "display: block;\n",
                            "white-space: pre-wrap;\n",
                            "}\n",
                            ".show-type {\n",
                            "color: green;\n",
                            "font-weight: bold;\n",
                            "font-family: monospace;\n",
                            "margin-left: 1em;\n",
                            "}\n",
                            ".mono {\n",
                            "font-family: monospace;\n",
                            "display: block;\n",
                            "}\n",
                            ".err-msg {\n",
                            "color: red;\n",
                            "font-style: italic;\n",
                            "font-family: monospace;\n",
                            "white-space: pre;\n",
                            "display: block;\n",
                            "}\n",
                            "#unshowable {\n",
                            "color: red;\n",
                            "font-weight: bold;\n",
                            "}\n",
                            ".err-msg.in.collapse {\n",
                            "padding-top: 0.7em;\n",
                            "}\n",
                            ".highlight-code {\n",
                            "white-space: pre;\n",
                            "font-family: monospace;\n",
                            "}\n",
                            ".suggestion-warning { \n",
                            "font-weight: bold;\n",
                            "color: rgb(200, 130, 0);\n",
                            "}\n",
                            ".suggestion-error { \n",
                            "font-weight: bold;\n",
                            "color: red;\n",
                            "}\n",
                            ".suggestion-name {\n",
                            "font-weight: bold;\n",
                            "}\n",
                            "</style><div class=\"suggestion-name\" style=\"clear:both;\">Redundant bracket</div><div class=\"suggestion-row\" style=\"float: left;\"><div class=\"suggestion-warning\">Found:</div><div class=\"highlight-code\" id=\"haskell\">(flip (+)) 1</div></div><div class=\"suggestion-row\" style=\"float: left;\"><div class=\"suggestion-warning\">Why Not:</div><div class=\"highlight-code\" id=\"haskell\">flip (+) 1</div></div><div class=\"suggestion-name\" style=\"clear:both;\">Redundant flip</div><div class=\"suggestion-row\" style=\"float: left;\"><div class=\"suggestion-warning\">Found:</div><div class=\"highlight-code\" id=\"haskell\">(flip (+)) 1 3</div></div><div class=\"suggestion-row\" style=\"float: left;\"><div class=\"suggestion-warning\">Why Not:</div><div class=\"highlight-code\" id=\"haskell\">(+) 3 1</div></div>"
                        ]
                    },
                    "metadata": {}
                },
                {
                    "output_type": "display_data",
                    "data": {
                        "text/plain": [
                            "Just 4"
                        ]
                    },
                    "metadata": {}
                },
                {
                    "output_type": "display_data",
                    "data": {
                        "text/plain": [
                            "4"
                        ]
                    },
                    "metadata": {}
                }
            ],
            "metadata": {}
        },
        {
            "cell_type": "code",
            "execution_count": 21,
            "source": [
                "do\n",
                "  y <- Just 4\n",
                "  (1,Just y)"
            ],
            "outputs": [
                {
                    "output_type": "error",
                    "ename": "",
                    "evalue": "",
                    "traceback": [
                        "<interactive>:3:3: error:\n    • Couldn't match type ‘(,) a0’ with ‘Maybe’\n      Expected type: Maybe (Maybe a)\n        Actual type: (a0, Maybe a)\n    • In a stmt of a 'do' block: (1, Just y)\n      In the expression:\n        do y <- Just 4\n           (1, Just y)\n      In an equation for ‘it’:\n          it\n            = do y <- Just 4\n                 (1, Just y)"
                    ]
                }
            ],
            "metadata": {}
        },
        {
            "cell_type": "code",
            "execution_count": null,
            "source": [],
            "outputs": [],
            "metadata": {}
        }
    ],
    "metadata": {
        "orig_nbformat": 4,
        "language_info": {
            "file_extension": ".hs",
            "pygments_lexer": "Haskell",
            "mimetype": "text/x-haskell",
            "name": "haskell",
            "version": "8.10.3",
            "codemirror_mode": "ihaskell"
        },
        "kernelspec": {
            "name": "haskell",
            "display_name": "Haskell",
            "language": "haskell"
        }
    },
    "nbformat": 4,
    "nbformat_minor": 2
}